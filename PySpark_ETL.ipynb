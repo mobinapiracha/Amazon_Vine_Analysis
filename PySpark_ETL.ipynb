{
  "nbformat": 4,
  "nbformat_minor": 0,
  "metadata": {
    "colab": {
      "name": "PySpark_ETL.ipynb",
      "provenance": [],
      "collapsed_sections": []
    },
    "kernelspec": {
      "name": "python3",
      "display_name": "Python 3"
    },
    "language_info": {
      "name": "python"
    }
  },
  "cells": [
    {
      "cell_type": "code",
      "metadata": {
        "colab": {
          "base_uri": "https://localhost:8080/"
        },
        "id": "W4u-ucXPJInc",
        "outputId": "d3a63065-ec59-4342-e483-b4da93a1cb66"
      },
      "source": [
        "import os\n",
        "# Find the latest version of spark 3.0  from http://www-us.apache.org/dist/spark/ and enter as the spark version\n",
        "# For example:\n",
        "# spark_version = 'spark-3.0.2'\n",
        "spark_version = 'spark-3.0.2'\n",
        "os.environ['SPARK_VERSION']=spark_version\n",
        "\n",
        "# Install Spark and Java\n",
        "!apt-get update\n",
        "!apt-get install openjdk-11-jdk-headless -qq > /dev/null\n",
        "!wget -q http://www-us.apache.org/dist/spark/$SPARK_VERSION/$SPARK_VERSION-bin-hadoop2.7.tgz\n",
        "!tar xf $SPARK_VERSION-bin-hadoop2.7.tgz\n",
        "!pip install -q findspark\n",
        "\n",
        "# Set Environment Variables\n",
        "import os\n",
        "os.environ[\"JAVA_HOME\"] = \"/usr/lib/jvm/java-11-openjdk-amd64\"\n",
        "os.environ[\"SPARK_HOME\"] = f\"/content/{spark_version}-bin-hadoop2.7\"\n",
        "\n",
        "# Start a SparkSession\n",
        "import findspark\n",
        "findspark.init()"
      ],
      "execution_count": null,
      "outputs": [
        {
          "output_type": "stream",
          "text": [
            "Get:1 http://security.ubuntu.com/ubuntu bionic-security InRelease [88.7 kB]\n",
            "Ign:2 https://developer.download.nvidia.com/compute/cuda/repos/ubuntu1804/x86_64  InRelease\n",
            "Hit:3 http://archive.ubuntu.com/ubuntu bionic InRelease\n",
            "Get:4 http://ppa.launchpad.net/c2d4u.team/c2d4u4.0+/ubuntu bionic InRelease [15.9 kB]\n",
            "Ign:5 https://developer.download.nvidia.com/compute/machine-learning/repos/ubuntu1804/x86_64  InRelease\n",
            "Get:6 https://developer.download.nvidia.com/compute/cuda/repos/ubuntu1804/x86_64  Release [697 B]\n",
            "Hit:7 https://developer.download.nvidia.com/compute/machine-learning/repos/ubuntu1804/x86_64  Release\n",
            "Get:8 https://developer.download.nvidia.com/compute/cuda/repos/ubuntu1804/x86_64  Release.gpg [836 B]\n",
            "Get:9 http://archive.ubuntu.com/ubuntu bionic-updates InRelease [88.7 kB]\n",
            "Get:10 https://cloud.r-project.org/bin/linux/ubuntu bionic-cran40/ InRelease [3,626 B]\n",
            "Hit:11 http://ppa.launchpad.net/cran/libgit2/ubuntu bionic InRelease\n",
            "Get:12 http://security.ubuntu.com/ubuntu bionic-security/multiverse amd64 Packages [24.7 kB]\n",
            "Get:13 http://archive.ubuntu.com/ubuntu bionic-backports InRelease [74.6 kB]\n",
            "Get:14 http://security.ubuntu.com/ubuntu bionic-security/restricted amd64 Packages [396 kB]\n",
            "Hit:15 http://ppa.launchpad.net/deadsnakes/ppa/ubuntu bionic InRelease\n",
            "Get:16 http://security.ubuntu.com/ubuntu bionic-security/main amd64 Packages [2,116 kB]\n",
            "Hit:17 http://ppa.launchpad.net/graphics-drivers/ppa/ubuntu bionic InRelease\n",
            "Ign:19 https://developer.download.nvidia.com/compute/cuda/repos/ubuntu1804/x86_64  Packages\n",
            "Get:19 https://developer.download.nvidia.com/compute/cuda/repos/ubuntu1804/x86_64  Packages [741 kB]\n",
            "Get:20 http://ppa.launchpad.net/c2d4u.team/c2d4u4.0+/ubuntu bionic/main Sources [1,756 kB]\n",
            "Get:21 http://archive.ubuntu.com/ubuntu bionic-updates/restricted amd64 Packages [426 kB]\n",
            "Get:22 http://ppa.launchpad.net/c2d4u.team/c2d4u4.0+/ubuntu bionic/main amd64 Packages [899 kB]\n",
            "Get:23 http://archive.ubuntu.com/ubuntu bionic-updates/universe amd64 Packages [2,181 kB]\n",
            "Get:24 http://archive.ubuntu.com/ubuntu bionic-updates/multiverse amd64 Packages [31.6 kB]\n",
            "Get:25 http://archive.ubuntu.com/ubuntu bionic-updates/main amd64 Packages [2,546 kB]\n",
            "Fetched 11.4 MB in 4s (3,193 kB/s)\n",
            "Reading package lists... Done\n"
          ],
          "name": "stdout"
        }
      ]
    },
    {
      "cell_type": "code",
      "metadata": {
        "colab": {
          "base_uri": "https://localhost:8080/"
        },
        "id": "hH60jSo4bQgH",
        "outputId": "7bb592a9-5776-4a87-af1b-d46b72430bda"
      },
      "source": [
        "!wget https://jdbc.postgresql.org/download/postgresql-42.2.16.jar"
      ],
      "execution_count": null,
      "outputs": [
        {
          "output_type": "stream",
          "text": [
            "--2021-04-26 00:06:36--  https://jdbc.postgresql.org/download/postgresql-42.2.16.jar\n",
            "Resolving jdbc.postgresql.org (jdbc.postgresql.org)... 72.32.157.228, 2001:4800:3e1:1::228\n",
            "Connecting to jdbc.postgresql.org (jdbc.postgresql.org)|72.32.157.228|:443... connected.\n",
            "HTTP request sent, awaiting response... 200 OK\n",
            "Length: 1002883 (979K) [application/java-archive]\n",
            "Saving to: ‘postgresql-42.2.16.jar’\n",
            "\n",
            "postgresql-42.2.16. 100%[===================>] 979.38K  --.-KB/s    in 0.1s    \n",
            "\n",
            "2021-04-26 00:06:36 (6.52 MB/s) - ‘postgresql-42.2.16.jar’ saved [1002883/1002883]\n",
            "\n"
          ],
          "name": "stdout"
        }
      ]
    },
    {
      "cell_type": "code",
      "metadata": {
        "id": "1rxb_knZbVpc"
      },
      "source": [
        "from pyspark.sql import SparkSession\n",
        "spark = SparkSession.builder.appName(\"CloudETL\").config(\"spark.driver.extraClassPath\",\"/content/postgresql-42.2.16.jar\").getOrCreate()"
      ],
      "execution_count": null,
      "outputs": []
    },
    {
      "cell_type": "code",
      "metadata": {
        "id": "4Av9ffOlbVsR"
      },
      "source": [
        "# Read in data from the S3 Bucket\n",
        "from pyspark import SparkFiles\n",
        "url = \"https://first-s3-bucket-data.s3.us-east-2.amazonaws.com/user_data.csv\"\n",
        "spark.sparkContext.addFile(url)\n",
        "user_data_df = spark.read.csv(SparkFiles.get(\"user_data.csv\"), sep=\",\", header=True, inferSchema=True)"
      ],
      "execution_count": null,
      "outputs": []
    },
    {
      "cell_type": "code",
      "metadata": {
        "colab": {
          "base_uri": "https://localhost:8080/"
        },
        "id": "IrIfwXmB-XCI",
        "outputId": "fe854703-f58d-4190-b8fb-ddcbea68d8e2"
      },
      "source": [
        "# Show DataFrame\n",
        "user_data_df.show()"
      ],
      "execution_count": null,
      "outputs": [
        {
          "output_type": "stream",
          "text": [
            "+---+----------+---------+-----------+--------------------+--------------------+------------+\n",
            "| id|first_name|last_name|active_user|      street_address|               state|    username|\n",
            "+---+----------+---------+-----------+--------------------+--------------------+------------+\n",
            "|  1|    Cletus|  Lithcow|      false| 78309 Riverside Way|            Virginia|   ibearham0|\n",
            "|  2|       Caz|   Felgat|      false| 83 Hazelcrest Place|             Alabama|    wwaller1|\n",
            "|  3|     Kerri|  Crowson|      false|      112 Eliot Pass|      North Carolina|   ichesnut2|\n",
            "|  4|   Freddie|    Caghy|      false|     15 Merchant Way|            New York|     tsnarr3|\n",
            "|  5|   Sadella|    Deuss|      false|    079 Acker Avenue|           Tennessee|   fwherrit4|\n",
            "|  6|    Fraser|  Korneev|       true|  76084 Novick Court|           Minnesota|  fstappard5|\n",
            "|  7|    Demott|   Rapson|       true|    86320 Dahle Park|District of Columbia|  lhambling6|\n",
            "|  8|    Robert|    Poile|      false|1540 Manitowish Hill|             Georgia|      drude7|\n",
            "|  9|    Nollie|     null|       true|       4 Katie Court|                Ohio|   bspawton8|\n",
            "| 10|   Merilyn| Frascone|      false|     387 Duke Street|                Ohio| rmackeller9|\n",
            "| 11|    Rickie| Tredwell|      false|  04 Monterey Center|            Missouri| cdennerleya|\n",
            "| 12|  Charmane| Connerry|      false|    0 Larry Junction|             Florida|    gsarfasb|\n",
            "| 13|     Nerti|   Kerins|      false|    68 Portage Trail|          California| mpichefordc|\n",
            "| 14|      Bart|     null|      false|    8 Homewood Court|District of Columbia|     bingryd|\n",
            "| 15|   Sadella|    Jaram|       true|7528 Waxwing Terrace|         Connecticut|   wheinerte|\n",
            "| 16|     Dicky|  Runnett|      false|  1793 Delaware Park|             Florida|    mdrewetf|\n",
            "| 17|    Hewitt|  Trammel|       true|    2455 Corry Alley|      North Carolina|droughsedgeg|\n",
            "| 18|  Gilligan|     Boys|      false|       2 Raven Court|             Florida|     abaakeh|\n",
            "| 19|       Ted|  Knowlys|       true|      31 South Drive|                Ohio|   ydudeniei|\n",
            "| 20|      Darb|   Carrel|      false|406 Park Meadow C...|           Minnesota|   ckermittj|\n",
            "+---+----------+---------+-----------+--------------------+--------------------+------------+\n",
            "only showing top 20 rows\n",
            "\n"
          ],
          "name": "stdout"
        }
      ]
    },
    {
      "cell_type": "code",
      "metadata": {
        "colab": {
          "base_uri": "https://localhost:8080/"
        },
        "id": "dQKIFYzJ8EqT",
        "outputId": "17052080-e929-4700-ad24-1310490b47e9"
      },
      "source": [
        "# Read in second dataset from S3 Bucket\n",
        "url = \"https://first-s3-bucket-data.s3.us-east-2.amazonaws.com/user_payment.csv\"\n",
        "spark.sparkContext.addFile(url)\n",
        "user_payment_df = spark.read.csv(SparkFiles.get(\"user_payment.csv\"), sep = \",\", header=True, inferSchema=True)\n",
        "\n",
        "# Show DataFrame\n",
        "user_payment_df.show()"
      ],
      "execution_count": null,
      "outputs": [
        {
          "output_type": "stream",
          "text": [
            "+----------+------------+--------------------+\n",
            "|billing_id|    username|        cc_encrypted|\n",
            "+----------+------------+--------------------+\n",
            "|         1|   ibearham0|a799fcafe47d7fb19...|\n",
            "|         2|    wwaller1|a799fcafe47d7fb19...|\n",
            "|         3|   ichesnut2|a799fcafe47d7fb19...|\n",
            "|         4|     tsnarr3|a799fcafe47d7fb19...|\n",
            "|         5|   fwherrit4|a799fcafe47d7fb19...|\n",
            "|         6|  fstappard5|a799fcafe47d7fb19...|\n",
            "|         7|  lhambling6|a799fcafe47d7fb19...|\n",
            "|         8|      drude7|a799fcafe47d7fb19...|\n",
            "|         9|   bspawton8|a799fcafe47d7fb19...|\n",
            "|        10| rmackeller9|a799fcafe47d7fb19...|\n",
            "|        11| cdennerleya|a799fcafe47d7fb19...|\n",
            "|        12|    gsarfasb|a799fcafe47d7fb19...|\n",
            "|        13| mpichefordc|a799fcafe47d7fb19...|\n",
            "|        14|     bingryd|a799fcafe47d7fb19...|\n",
            "|        15|   wheinerte|a799fcafe47d7fb19...|\n",
            "|        16|    mdrewetf|a799fcafe47d7fb19...|\n",
            "|        17|droughsedgeg|a799fcafe47d7fb19...|\n",
            "|        18|     abaakeh|a799fcafe47d7fb19...|\n",
            "|        19|   ydudeniei|a799fcafe47d7fb19...|\n",
            "|        20|   ckermittj|a799fcafe47d7fb19...|\n",
            "+----------+------------+--------------------+\n",
            "only showing top 20 rows\n",
            "\n"
          ],
          "name": "stdout"
        }
      ]
    },
    {
      "cell_type": "code",
      "metadata": {
        "colab": {
          "base_uri": "https://localhost:8080/"
        },
        "id": "yETpaJK8_Niq",
        "outputId": "e207eb7d-3434-488b-aff6-efc0e27c6d20"
      },
      "source": [
        "#Transform: Join the two tables \n",
        "joined_df = user_data_df.join(user_payment_df, on=\"username\", how=\"inner\")\n",
        "joined_df.show()"
      ],
      "execution_count": null,
      "outputs": [
        {
          "output_type": "stream",
          "text": [
            "+------------+---+----------+---------+-----------+--------------------+--------------------+----------+--------------------+\n",
            "|    username| id|first_name|last_name|active_user|      street_address|               state|billing_id|        cc_encrypted|\n",
            "+------------+---+----------+---------+-----------+--------------------+--------------------+----------+--------------------+\n",
            "|   ibearham0|  1|    Cletus|  Lithcow|      false| 78309 Riverside Way|            Virginia|         1|a799fcafe47d7fb19...|\n",
            "|    wwaller1|  2|       Caz|   Felgat|      false| 83 Hazelcrest Place|             Alabama|         2|a799fcafe47d7fb19...|\n",
            "|   ichesnut2|  3|     Kerri|  Crowson|      false|      112 Eliot Pass|      North Carolina|         3|a799fcafe47d7fb19...|\n",
            "|     tsnarr3|  4|   Freddie|    Caghy|      false|     15 Merchant Way|            New York|         4|a799fcafe47d7fb19...|\n",
            "|   fwherrit4|  5|   Sadella|    Deuss|      false|    079 Acker Avenue|           Tennessee|         5|a799fcafe47d7fb19...|\n",
            "|  fstappard5|  6|    Fraser|  Korneev|       true|  76084 Novick Court|           Minnesota|         6|a799fcafe47d7fb19...|\n",
            "|  lhambling6|  7|    Demott|   Rapson|       true|    86320 Dahle Park|District of Columbia|         7|a799fcafe47d7fb19...|\n",
            "|      drude7|  8|    Robert|    Poile|      false|1540 Manitowish Hill|             Georgia|         8|a799fcafe47d7fb19...|\n",
            "|   bspawton8|  9|    Nollie|     null|       true|       4 Katie Court|                Ohio|         9|a799fcafe47d7fb19...|\n",
            "| rmackeller9| 10|   Merilyn| Frascone|      false|     387 Duke Street|                Ohio|        10|a799fcafe47d7fb19...|\n",
            "| cdennerleya| 11|    Rickie| Tredwell|      false|  04 Monterey Center|            Missouri|        11|a799fcafe47d7fb19...|\n",
            "|    gsarfasb| 12|  Charmane| Connerry|      false|    0 Larry Junction|             Florida|        12|a799fcafe47d7fb19...|\n",
            "| mpichefordc| 13|     Nerti|   Kerins|      false|    68 Portage Trail|          California|        13|a799fcafe47d7fb19...|\n",
            "|     bingryd| 14|      Bart|     null|      false|    8 Homewood Court|District of Columbia|        14|a799fcafe47d7fb19...|\n",
            "|   wheinerte| 15|   Sadella|    Jaram|       true|7528 Waxwing Terrace|         Connecticut|        15|a799fcafe47d7fb19...|\n",
            "|    mdrewetf| 16|     Dicky|  Runnett|      false|  1793 Delaware Park|             Florida|        16|a799fcafe47d7fb19...|\n",
            "|droughsedgeg| 17|    Hewitt|  Trammel|       true|    2455 Corry Alley|      North Carolina|        17|a799fcafe47d7fb19...|\n",
            "|     abaakeh| 18|  Gilligan|     Boys|      false|       2 Raven Court|             Florida|        18|a799fcafe47d7fb19...|\n",
            "|   ydudeniei| 19|       Ted|  Knowlys|       true|      31 South Drive|                Ohio|        19|a799fcafe47d7fb19...|\n",
            "|   ckermittj| 20|      Darb|   Carrel|      false|406 Park Meadow C...|           Minnesota|        20|a799fcafe47d7fb19...|\n",
            "+------------+---+----------+---------+-----------+--------------------+--------------------+----------+--------------------+\n",
            "only showing top 20 rows\n",
            "\n"
          ],
          "name": "stdout"
        }
      ]
    },
    {
      "cell_type": "code",
      "metadata": {
        "colab": {
          "base_uri": "https://localhost:8080/"
        },
        "id": "gRQXaFNj-K_a",
        "outputId": "39e4ddf2-4471-4547-8042-152932dbd51a"
      },
      "source": [
        "dropna_df = joined_df.dropna()\n",
        "dropna_df.show()"
      ],
      "execution_count": null,
      "outputs": [
        {
          "output_type": "stream",
          "text": [
            "+------------+---+----------+---------+-----------+--------------------+--------------------+----------+--------------------+\n",
            "|    username| id|first_name|last_name|active_user|      street_address|               state|billing_id|        cc_encrypted|\n",
            "+------------+---+----------+---------+-----------+--------------------+--------------------+----------+--------------------+\n",
            "|   ibearham0|  1|    Cletus|  Lithcow|      false| 78309 Riverside Way|            Virginia|         1|a799fcafe47d7fb19...|\n",
            "|    wwaller1|  2|       Caz|   Felgat|      false| 83 Hazelcrest Place|             Alabama|         2|a799fcafe47d7fb19...|\n",
            "|   ichesnut2|  3|     Kerri|  Crowson|      false|      112 Eliot Pass|      North Carolina|         3|a799fcafe47d7fb19...|\n",
            "|     tsnarr3|  4|   Freddie|    Caghy|      false|     15 Merchant Way|            New York|         4|a799fcafe47d7fb19...|\n",
            "|   fwherrit4|  5|   Sadella|    Deuss|      false|    079 Acker Avenue|           Tennessee|         5|a799fcafe47d7fb19...|\n",
            "|  fstappard5|  6|    Fraser|  Korneev|       true|  76084 Novick Court|           Minnesota|         6|a799fcafe47d7fb19...|\n",
            "|  lhambling6|  7|    Demott|   Rapson|       true|    86320 Dahle Park|District of Columbia|         7|a799fcafe47d7fb19...|\n",
            "|      drude7|  8|    Robert|    Poile|      false|1540 Manitowish Hill|             Georgia|         8|a799fcafe47d7fb19...|\n",
            "| rmackeller9| 10|   Merilyn| Frascone|      false|     387 Duke Street|                Ohio|        10|a799fcafe47d7fb19...|\n",
            "| cdennerleya| 11|    Rickie| Tredwell|      false|  04 Monterey Center|            Missouri|        11|a799fcafe47d7fb19...|\n",
            "|    gsarfasb| 12|  Charmane| Connerry|      false|    0 Larry Junction|             Florida|        12|a799fcafe47d7fb19...|\n",
            "| mpichefordc| 13|     Nerti|   Kerins|      false|    68 Portage Trail|          California|        13|a799fcafe47d7fb19...|\n",
            "|   wheinerte| 15|   Sadella|    Jaram|       true|7528 Waxwing Terrace|         Connecticut|        15|a799fcafe47d7fb19...|\n",
            "|    mdrewetf| 16|     Dicky|  Runnett|      false|  1793 Delaware Park|             Florida|        16|a799fcafe47d7fb19...|\n",
            "|droughsedgeg| 17|    Hewitt|  Trammel|       true|    2455 Corry Alley|      North Carolina|        17|a799fcafe47d7fb19...|\n",
            "|     abaakeh| 18|  Gilligan|     Boys|      false|       2 Raven Court|             Florida|        18|a799fcafe47d7fb19...|\n",
            "|   ydudeniei| 19|       Ted|  Knowlys|       true|      31 South Drive|                Ohio|        19|a799fcafe47d7fb19...|\n",
            "|   ckermittj| 20|      Darb|   Carrel|      false|406 Park Meadow C...|           Minnesota|        20|a799fcafe47d7fb19...|\n",
            "|     ipowisk| 21|   Diandra|Cancellor|      false|      1 Fisk Parkway|      North Carolina|        21|a799fcafe47d7fb19...|\n",
            "|    dtaltonl| 22|    Ulrika| Itzhayek|      false|  890 Lakewood Alley|          California|        22|a799fcafe47d7fb19...|\n",
            "+------------+---+----------+---------+-----------+--------------------+--------------------+----------+--------------------+\n",
            "only showing top 20 rows\n",
            "\n"
          ],
          "name": "stdout"
        }
      ]
    },
    {
      "cell_type": "code",
      "metadata": {
        "colab": {
          "base_uri": "https://localhost:8080/"
        },
        "id": "aFFSCV6IgVlj",
        "outputId": "23440541-e57d-461c-ea4f-29571fe06315"
      },
      "source": [
        "#Load in a sql function to use columns \n",
        "from pyspark.sql.functions import col\n",
        "\n",
        "#Filter for only columns with active users\n",
        "cleaned_df = dropna_df.filter(col(\"active_user\") == True)\n",
        "cleaned_df.show()"
      ],
      "execution_count": null,
      "outputs": [
        {
          "output_type": "stream",
          "text": [
            "+-------------+---+----------+-----------+-----------+--------------------+--------------------+----------+--------------------+\n",
            "|     username| id|first_name|  last_name|active_user|      street_address|               state|billing_id|        cc_encrypted|\n",
            "+-------------+---+----------+-----------+-----------+--------------------+--------------------+----------+--------------------+\n",
            "|   fstappard5|  6|    Fraser|    Korneev|       true|  76084 Novick Court|           Minnesota|         6|a799fcafe47d7fb19...|\n",
            "|   lhambling6|  7|    Demott|     Rapson|       true|    86320 Dahle Park|District of Columbia|         7|a799fcafe47d7fb19...|\n",
            "|    wheinerte| 15|   Sadella|      Jaram|       true|7528 Waxwing Terrace|         Connecticut|        15|a799fcafe47d7fb19...|\n",
            "| droughsedgeg| 17|    Hewitt|    Trammel|       true|    2455 Corry Alley|      North Carolina|        17|a799fcafe47d7fb19...|\n",
            "|    ydudeniei| 19|       Ted|    Knowlys|       true|      31 South Drive|                Ohio|        19|a799fcafe47d7fb19...|\n",
            "|     fmyttonm| 23|  Annmarie|     Lafond|       true|     35 Oriole Place|             Georgia|        23|a799fcafe47d7fb19...|\n",
            "|   bfletcherr| 28|      Toma|     Sokell|       true|39641 Eggendart Hill|            Maryland|        28|a799fcafe47d7fb19...|\n",
            "|     gturleyt| 30|       Ram|    Lefever|       true|   9969 Laurel Alley|               Texas|        30|a799fcafe47d7fb19...|\n",
            "|    calyukinu| 31|    Raddie|    Heindle|       true|   811 Talmadge Road|                Ohio|        31|a799fcafe47d7fb19...|\n",
            "| ckleinlererw| 33|    Wallie|       Caws|       true|   9999 Kenwood Pass|              Oregon|        33|a799fcafe47d7fb19...|\n",
            "|  pshanklandx| 34|    Derril|Varfolomeev|       true|     4 Jenifer Court|             Florida|        34|a799fcafe47d7fb19...|\n",
            "|    enelane12| 39|     Kelcy|     Wheway|       true|93207 Morningstar...|             Florida|        39|a799fcafe47d7fb19...|\n",
            "|    sfollet13| 40|    Dorree|    Rookeby|       true|       2 Troy Circle|          California|        40|a799fcafe47d7fb19...|\n",
            "|      mtesh14| 41|    Martyn|       Tott|       true|       728 Muir Lane|             Florida|        41|a799fcafe47d7fb19...|\n",
            "|   tseyfart16| 43|     Cally|      Thody|       true|   1 Graceland Plaza|             Florida|        43|a799fcafe47d7fb19...|\n",
            "|   hfarrier18| 45|       Ted|   Pittaway|       true|767 Little Fleur ...|      North Carolina|        45|a799fcafe47d7fb19...|\n",
            "|     nabbie1b| 48|      Fifi|    Lidgley|       true|6744 Sutherland Road|      South Carolina|        48|a799fcafe47d7fb19...|\n",
            "|  ystadding1d| 50|    Ashely|     O'Hern|       true|   929 Scoville Park|             Florida|        50|a799fcafe47d7fb19...|\n",
            "|hhallgalley1g| 53|   Diannne|Osbaldeston|       true|        0 Mesta Pass|           Tennessee|        53|a799fcafe47d7fb19...|\n",
            "|   ageaveny1n| 60|     Sonny|     Jeskin|       true| 50 Sutherland Drive|       Massachusetts|        60|a799fcafe47d7fb19...|\n",
            "+-------------+---+----------+-----------+-----------+--------------------+--------------------+----------+--------------------+\n",
            "only showing top 20 rows\n",
            "\n"
          ],
          "name": "stdout"
        }
      ]
    },
    {
      "cell_type": "code",
      "metadata": {
        "colab": {
          "base_uri": "https://localhost:8080/"
        },
        "id": "B_ZP8Hhggd68",
        "outputId": "4c5c826f-7d2b-414f-e6bd-f32682105360"
      },
      "source": [
        "# Create a user dataframe to math active user table \n",
        "clean_user_df = cleaned_df.select([\"id\", \"first_name\", \"last_name\", \"username\"])\n",
        "clean_user_df.show()"
      ],
      "execution_count": null,
      "outputs": [
        {
          "output_type": "stream",
          "text": [
            "+---+----------+-----------+-------------+\n",
            "| id|first_name|  last_name|     username|\n",
            "+---+----------+-----------+-------------+\n",
            "|  6|    Fraser|    Korneev|   fstappard5|\n",
            "|  7|    Demott|     Rapson|   lhambling6|\n",
            "| 15|   Sadella|      Jaram|    wheinerte|\n",
            "| 17|    Hewitt|    Trammel| droughsedgeg|\n",
            "| 19|       Ted|    Knowlys|    ydudeniei|\n",
            "| 23|  Annmarie|     Lafond|     fmyttonm|\n",
            "| 28|      Toma|     Sokell|   bfletcherr|\n",
            "| 30|       Ram|    Lefever|     gturleyt|\n",
            "| 31|    Raddie|    Heindle|    calyukinu|\n",
            "| 33|    Wallie|       Caws| ckleinlererw|\n",
            "| 34|    Derril|Varfolomeev|  pshanklandx|\n",
            "| 39|     Kelcy|     Wheway|    enelane12|\n",
            "| 40|    Dorree|    Rookeby|    sfollet13|\n",
            "| 41|    Martyn|       Tott|      mtesh14|\n",
            "| 43|     Cally|      Thody|   tseyfart16|\n",
            "| 45|       Ted|   Pittaway|   hfarrier18|\n",
            "| 48|      Fifi|    Lidgley|     nabbie1b|\n",
            "| 50|    Ashely|     O'Hern|  ystadding1d|\n",
            "| 53|   Diannne|Osbaldeston|hhallgalley1g|\n",
            "| 60|     Sonny|     Jeskin|   ageaveny1n|\n",
            "+---+----------+-----------+-------------+\n",
            "only showing top 20 rows\n",
            "\n"
          ],
          "name": "stdout"
        }
      ]
    },
    {
      "cell_type": "code",
      "metadata": {
        "colab": {
          "base_uri": "https://localhost:8080/"
        },
        "id": "ob5fRxXikTtZ",
        "outputId": "ccbcce6e-61b8-4fa3-e2f9-aa40851d71cf"
      },
      "source": [
        "clean_billing_df = cleaned_df.select([\"billing_id\", \"street_address\", \"state\", \"username\"])\n",
        "clean_billing_df.show()"
      ],
      "execution_count": null,
      "outputs": [
        {
          "output_type": "stream",
          "text": [
            "+----------+--------------------+--------------------+-------------+\n",
            "|billing_id|      street_address|               state|     username|\n",
            "+----------+--------------------+--------------------+-------------+\n",
            "|         6|  76084 Novick Court|           Minnesota|   fstappard5|\n",
            "|         7|    86320 Dahle Park|District of Columbia|   lhambling6|\n",
            "|        15|7528 Waxwing Terrace|         Connecticut|    wheinerte|\n",
            "|        17|    2455 Corry Alley|      North Carolina| droughsedgeg|\n",
            "|        19|      31 South Drive|                Ohio|    ydudeniei|\n",
            "|        23|     35 Oriole Place|             Georgia|     fmyttonm|\n",
            "|        28|39641 Eggendart Hill|            Maryland|   bfletcherr|\n",
            "|        30|   9969 Laurel Alley|               Texas|     gturleyt|\n",
            "|        31|   811 Talmadge Road|                Ohio|    calyukinu|\n",
            "|        33|   9999 Kenwood Pass|              Oregon| ckleinlererw|\n",
            "|        34|     4 Jenifer Court|             Florida|  pshanklandx|\n",
            "|        39|93207 Morningstar...|             Florida|    enelane12|\n",
            "|        40|       2 Troy Circle|          California|    sfollet13|\n",
            "|        41|       728 Muir Lane|             Florida|      mtesh14|\n",
            "|        43|   1 Graceland Plaza|             Florida|   tseyfart16|\n",
            "|        45|767 Little Fleur ...|      North Carolina|   hfarrier18|\n",
            "|        48|6744 Sutherland Road|      South Carolina|     nabbie1b|\n",
            "|        50|   929 Scoville Park|             Florida|  ystadding1d|\n",
            "|        53|        0 Mesta Pass|           Tennessee|hhallgalley1g|\n",
            "|        60| 50 Sutherland Drive|       Massachusetts|   ageaveny1n|\n",
            "+----------+--------------------+--------------------+-------------+\n",
            "only showing top 20 rows\n",
            "\n"
          ],
          "name": "stdout"
        }
      ]
    },
    {
      "cell_type": "code",
      "metadata": {
        "colab": {
          "base_uri": "https://localhost:8080/"
        },
        "id": "e85pEEJpkhO9",
        "outputId": "e75d3bec-749f-4a71-ebbc-4e3550593f8f"
      },
      "source": [
        "#Create user dataframe to match payment info table \n",
        "clean_payment_df = cleaned_df.select([\"billing_id\", \"cc_encrypted\"])\n",
        "clean_payment_df.show()"
      ],
      "execution_count": null,
      "outputs": [
        {
          "output_type": "stream",
          "text": [
            "+----------+--------------------+\n",
            "|billing_id|        cc_encrypted|\n",
            "+----------+--------------------+\n",
            "|         6|a799fcafe47d7fb19...|\n",
            "|         7|a799fcafe47d7fb19...|\n",
            "|        15|a799fcafe47d7fb19...|\n",
            "|        17|a799fcafe47d7fb19...|\n",
            "|        19|a799fcafe47d7fb19...|\n",
            "|        23|a799fcafe47d7fb19...|\n",
            "|        28|a799fcafe47d7fb19...|\n",
            "|        30|a799fcafe47d7fb19...|\n",
            "|        31|a799fcafe47d7fb19...|\n",
            "|        33|a799fcafe47d7fb19...|\n",
            "|        34|a799fcafe47d7fb19...|\n",
            "|        39|a799fcafe47d7fb19...|\n",
            "|        40|a799fcafe47d7fb19...|\n",
            "|        41|a799fcafe47d7fb19...|\n",
            "|        43|a799fcafe47d7fb19...|\n",
            "|        45|a799fcafe47d7fb19...|\n",
            "|        48|a799fcafe47d7fb19...|\n",
            "|        50|a799fcafe47d7fb19...|\n",
            "|        53|a799fcafe47d7fb19...|\n",
            "|        60|a799fcafe47d7fb19...|\n",
            "+----------+--------------------+\n",
            "only showing top 20 rows\n",
            "\n"
          ],
          "name": "stdout"
        }
      ]
    },
    {
      "cell_type": "code",
      "metadata": {
        "id": "WQUGW8_dk4cx"
      },
      "source": [
        "# Configure settings for RDS\n",
        "mode = \"append\"\n",
        "jdbc_url=\"jdbc:postgresql://mypostgresdb1.chzv1uj0gxi2.us-east-2.rds.amazonaws.com:5432/my_data_class_db\"\n",
        "config = {\"user\":\"\",\n",
        "          \"password\": \"\",\n",
        "          \"driver\":\"org.postgresql.Driver\"}"
      ],
      "execution_count": null,
      "outputs": []
    },
    {
      "cell_type": "code",
      "metadata": {
        "id": "7YwVkndDm8AN"
      },
      "source": [
        "# Write dataframe to active user table in RDS \n",
        "clean_user_df.write.jdbc(url=jdbc_url, table='active_user', mode=mode, properties=config)"
      ],
      "execution_count": null,
      "outputs": []
    },
    {
      "cell_type": "code",
      "metadata": {
        "id": "GsYr4iAjnMBW"
      },
      "source": [
        "clean_billing_df.write.jdbc(url=jdbc_url, table='billing_info', mode=mode, properties=config)"
      ],
      "execution_count": null,
      "outputs": []
    },
    {
      "cell_type": "code",
      "metadata": {
        "id": "nq4QI5k5nMH6"
      },
      "source": [
        "clean_payment_df.write.jdbc(url=jdbc_url, table='payment_info', mode=mode, properties=config)"
      ],
      "execution_count": null,
      "outputs": []
    }
  ]
}